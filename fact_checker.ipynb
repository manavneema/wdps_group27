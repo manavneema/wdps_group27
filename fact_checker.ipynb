{
 "cells": [
  {
   "cell_type": "code",
   "id": "initial_id",
   "metadata": {
    "collapsed": true,
    "ExecuteTime": {
     "end_time": "2024-12-19T17:15:27.352893Z",
     "start_time": "2024-12-19T17:15:18.166434Z"
    }
   },
   "source": [
    "import pandas as pd\n",
    "import spacy\n",
    "import wikipedia\n",
    "\n",
    "import entitylinker\n",
    "from sklearn.feature_extraction.text import TfidfVectorizer\n",
    "\n"
   ],
   "outputs": [
    {
     "name": "stderr",
     "output_type": "stream",
     "text": [
      "/Users/hiddemakimei/Desktop/git/vu/web/kb/wdps_group27/.venv/lib/python3.9/site-packages/urllib3/__init__.py:35: NotOpenSSLWarning: urllib3 v2 only supports OpenSSL 1.1.1+, currently the 'ssl' module is compiled with 'LibreSSL 2.8.3'. See: https://github.com/urllib3/urllib3/issues/3020\n",
      "  warnings.warn(\n",
      "llama_new_context_with_model: n_ctx_per_seq (512) < n_ctx_train (4096) -- the full capacity of the model will not be utilized\n",
      "ggml_metal_init: skipping kernel_get_rows_bf16                     (not supported)\n",
      "ggml_metal_init: skipping kernel_mul_mv_bf16_f32                   (not supported)\n",
      "ggml_metal_init: skipping kernel_mul_mv_bf16_f32_1row              (not supported)\n",
      "ggml_metal_init: skipping kernel_mul_mv_bf16_f32_l4                (not supported)\n",
      "ggml_metal_init: skipping kernel_mul_mv_bf16_bf16                  (not supported)\n",
      "ggml_metal_init: skipping kernel_mul_mv_id_bf16_f32                (not supported)\n",
      "ggml_metal_init: skipping kernel_mul_mm_f32_f32                    (not supported)\n",
      "ggml_metal_init: skipping kernel_mul_mm_f16_f32                    (not supported)\n",
      "ggml_metal_init: skipping kernel_mul_mm_bf16_f32                   (not supported)\n",
      "ggml_metal_init: skipping kernel_mul_mm_q4_0_f32                   (not supported)\n",
      "ggml_metal_init: skipping kernel_mul_mm_q4_1_f32                   (not supported)\n",
      "ggml_metal_init: skipping kernel_mul_mm_q5_0_f32                   (not supported)\n",
      "ggml_metal_init: skipping kernel_mul_mm_q5_1_f32                   (not supported)\n",
      "ggml_metal_init: skipping kernel_mul_mm_q8_0_f32                   (not supported)\n",
      "ggml_metal_init: skipping kernel_mul_mm_q2_K_f32                   (not supported)\n",
      "ggml_metal_init: skipping kernel_mul_mm_q3_K_f32                   (not supported)\n",
      "ggml_metal_init: skipping kernel_mul_mm_q4_K_f32                   (not supported)\n",
      "ggml_metal_init: skipping kernel_mul_mm_q5_K_f32                   (not supported)\n",
      "ggml_metal_init: skipping kernel_mul_mm_q6_K_f32                   (not supported)\n",
      "ggml_metal_init: skipping kernel_mul_mm_iq2_xxs_f32                (not supported)\n",
      "ggml_metal_init: skipping kernel_mul_mm_iq2_xs_f32                 (not supported)\n",
      "ggml_metal_init: skipping kernel_mul_mm_iq3_xxs_f32                (not supported)\n",
      "ggml_metal_init: skipping kernel_mul_mm_iq3_s_f32                  (not supported)\n",
      "ggml_metal_init: skipping kernel_mul_mm_iq2_s_f32                  (not supported)\n",
      "ggml_metal_init: skipping kernel_mul_mm_iq1_s_f32                  (not supported)\n",
      "ggml_metal_init: skipping kernel_mul_mm_iq1_m_f32                  (not supported)\n",
      "ggml_metal_init: skipping kernel_mul_mm_iq4_nl_f32                 (not supported)\n",
      "ggml_metal_init: skipping kernel_mul_mm_iq4_xs_f32                 (not supported)\n",
      "ggml_metal_init: skipping kernel_mul_mm_id_f32_f32                 (not supported)\n",
      "ggml_metal_init: skipping kernel_mul_mm_id_f16_f32                 (not supported)\n",
      "ggml_metal_init: skipping kernel_mul_mm_id_bf16_f32                (not supported)\n",
      "ggml_metal_init: skipping kernel_mul_mm_id_q4_0_f32                (not supported)\n",
      "ggml_metal_init: skipping kernel_mul_mm_id_q4_1_f32                (not supported)\n",
      "ggml_metal_init: skipping kernel_mul_mm_id_q5_0_f32                (not supported)\n",
      "ggml_metal_init: skipping kernel_mul_mm_id_q5_1_f32                (not supported)\n",
      "ggml_metal_init: skipping kernel_mul_mm_id_q8_0_f32                (not supported)\n",
      "ggml_metal_init: skipping kernel_mul_mm_id_q2_K_f32                (not supported)\n",
      "ggml_metal_init: skipping kernel_mul_mm_id_q3_K_f32                (not supported)\n",
      "ggml_metal_init: skipping kernel_mul_mm_id_q4_K_f32                (not supported)\n",
      "ggml_metal_init: skipping kernel_mul_mm_id_q5_K_f32                (not supported)\n",
      "ggml_metal_init: skipping kernel_mul_mm_id_q6_K_f32                (not supported)\n",
      "ggml_metal_init: skipping kernel_mul_mm_id_iq2_xxs_f32             (not supported)\n",
      "ggml_metal_init: skipping kernel_mul_mm_id_iq2_xs_f32              (not supported)\n",
      "ggml_metal_init: skipping kernel_mul_mm_id_iq3_xxs_f32             (not supported)\n",
      "ggml_metal_init: skipping kernel_mul_mm_id_iq3_s_f32               (not supported)\n",
      "ggml_metal_init: skipping kernel_mul_mm_id_iq2_s_f32               (not supported)\n",
      "ggml_metal_init: skipping kernel_mul_mm_id_iq1_s_f32               (not supported)\n",
      "ggml_metal_init: skipping kernel_mul_mm_id_iq1_m_f32               (not supported)\n",
      "ggml_metal_init: skipping kernel_mul_mm_id_iq4_nl_f32              (not supported)\n",
      "ggml_metal_init: skipping kernel_mul_mm_id_iq4_xs_f32              (not supported)\n",
      "ggml_metal_init: skipping kernel_flash_attn_ext_f16_h64            (not supported)\n",
      "ggml_metal_init: skipping kernel_flash_attn_ext_f16_h80            (not supported)\n",
      "ggml_metal_init: skipping kernel_flash_attn_ext_f16_h96            (not supported)\n",
      "ggml_metal_init: skipping kernel_flash_attn_ext_f16_h112           (not supported)\n",
      "ggml_metal_init: skipping kernel_flash_attn_ext_f16_h128           (not supported)\n",
      "ggml_metal_init: skipping kernel_flash_attn_ext_f16_h256           (not supported)\n",
      "ggml_metal_init: skipping kernel_flash_attn_ext_bf16_h64           (not supported)\n",
      "ggml_metal_init: skipping kernel_flash_attn_ext_bf16_h80           (not supported)\n",
      "ggml_metal_init: skipping kernel_flash_attn_ext_bf16_h96           (not supported)\n",
      "ggml_metal_init: skipping kernel_flash_attn_ext_bf16_h112          (not supported)\n",
      "ggml_metal_init: skipping kernel_flash_attn_ext_bf16_h128          (not supported)\n",
      "ggml_metal_init: skipping kernel_flash_attn_ext_bf16_h256          (not supported)\n",
      "ggml_metal_init: skipping kernel_flash_attn_ext_q4_0_h64           (not supported)\n",
      "ggml_metal_init: skipping kernel_flash_attn_ext_q4_0_h80           (not supported)\n",
      "ggml_metal_init: skipping kernel_flash_attn_ext_q4_0_h96           (not supported)\n",
      "ggml_metal_init: skipping kernel_flash_attn_ext_q4_0_h112          (not supported)\n",
      "ggml_metal_init: skipping kernel_flash_attn_ext_q4_0_h128          (not supported)\n",
      "ggml_metal_init: skipping kernel_flash_attn_ext_q4_0_h256          (not supported)\n",
      "ggml_metal_init: skipping kernel_flash_attn_ext_q4_1_h64           (not supported)\n",
      "ggml_metal_init: skipping kernel_flash_attn_ext_q4_1_h80           (not supported)\n",
      "ggml_metal_init: skipping kernel_flash_attn_ext_q4_1_h96           (not supported)\n",
      "ggml_metal_init: skipping kernel_flash_attn_ext_q4_1_h112          (not supported)\n",
      "ggml_metal_init: skipping kernel_flash_attn_ext_q4_1_h128          (not supported)\n",
      "ggml_metal_init: skipping kernel_flash_attn_ext_q4_1_h256          (not supported)\n",
      "ggml_metal_init: skipping kernel_flash_attn_ext_q5_0_h64           (not supported)\n",
      "ggml_metal_init: skipping kernel_flash_attn_ext_q5_0_h80           (not supported)\n",
      "ggml_metal_init: skipping kernel_flash_attn_ext_q5_0_h96           (not supported)\n",
      "ggml_metal_init: skipping kernel_flash_attn_ext_q5_0_h112          (not supported)\n",
      "ggml_metal_init: skipping kernel_flash_attn_ext_q5_0_h128          (not supported)\n",
      "ggml_metal_init: skipping kernel_flash_attn_ext_q5_0_h256          (not supported)\n",
      "ggml_metal_init: skipping kernel_flash_attn_ext_q5_1_h64           (not supported)\n",
      "ggml_metal_init: skipping kernel_flash_attn_ext_q5_1_h80           (not supported)\n",
      "ggml_metal_init: skipping kernel_flash_attn_ext_q5_1_h96           (not supported)\n",
      "ggml_metal_init: skipping kernel_flash_attn_ext_q5_1_h112          (not supported)\n",
      "ggml_metal_init: skipping kernel_flash_attn_ext_q5_1_h128          (not supported)\n",
      "ggml_metal_init: skipping kernel_flash_attn_ext_q5_1_h256          (not supported)\n",
      "ggml_metal_init: skipping kernel_flash_attn_ext_q8_0_h64           (not supported)\n",
      "ggml_metal_init: skipping kernel_flash_attn_ext_q8_0_h80           (not supported)\n",
      "ggml_metal_init: skipping kernel_flash_attn_ext_q8_0_h96           (not supported)\n",
      "ggml_metal_init: skipping kernel_flash_attn_ext_q8_0_h112          (not supported)\n",
      "ggml_metal_init: skipping kernel_flash_attn_ext_q8_0_h128          (not supported)\n",
      "ggml_metal_init: skipping kernel_flash_attn_ext_q8_0_h256          (not supported)\n",
      "ggml_metal_init: skipping kernel_flash_attn_ext_vec_bf16_h128      (not supported)\n",
      "ggml_metal_init: skipping kernel_flash_attn_ext_vec_bf16_h256      (not supported)\n",
      "ggml_metal_init: skipping kernel_cpy_f32_bf16                      (not supported)\n",
      "ggml_metal_init: skipping kernel_cpy_bf16_f32                      (not supported)\n",
      "ggml_metal_init: skipping kernel_cpy_bf16_bf16                     (not supported)\n"
     ]
    }
   ],
   "execution_count": 1
  },
  {
   "metadata": {},
   "cell_type": "code",
   "source": "!!python -m spacy download en_core_web_sm\n",
   "id": "5238d07f8660f81e",
   "outputs": [],
   "execution_count": null
  },
  {
   "metadata": {
    "ExecuteTime": {
     "end_time": "2024-12-19T17:15:33.815337Z",
     "start_time": "2024-12-19T17:15:33.443765Z"
    }
   },
   "cell_type": "code",
   "source": "df = pd.read_csv('/Users/hiddemakimei/Desktop/git/vu/web/kb/data/train.csv')",
   "id": "b33203294cff96e2",
   "outputs": [],
   "execution_count": 2
  },
  {
   "metadata": {
    "ExecuteTime": {
     "end_time": "2024-12-19T17:15:35.316326Z",
     "start_time": "2024-12-19T17:15:35.297293Z"
    }
   },
   "cell_type": "code",
   "source": "df.head()",
   "id": "b0fa429d9dadf482",
   "outputs": [
    {
     "data": {
      "text/plain": [
       "                                               claim  \\\n",
       "0  The Hit is the first film Stephen Frears direc...   \n",
       "1  Gemini is an Indian Tamil-language crime actio...   \n",
       "2  Zach Galifianakis is an American actor who app...   \n",
       "3  Mark Alan Ruffalo went on to star in a 2002 Am...   \n",
       "4  Martin is currently writing the sixth novel in...   \n",
       "\n",
       "                                         explanation            label  \\\n",
       "0  No information shows that The Hit is the first...  NOT ENOUGH INFO   \n",
       "1  Gemini is an Indian Tamil-language crime actio...          SUPPORT   \n",
       "2  Zach Galifianakis is an American actor who app...           REFUTE   \n",
       "3  Mark Alan Ruffalo went on to star in Shutter I...           REFUTE   \n",
       "4  Martin is currently writing the sixth novel, T...          SUPPORT   \n",
       "\n",
       "                                       golden entity  \\\n",
       "0                ['The_Hit_(1984_film)', 'Tim_Roth']   \n",
       "1    ['Gemini_(2002_Tamil_film)', 'AVM_Productions']   \n",
       "2                  ['Zach_Galifianakis', 'Due_Date']   \n",
       "3  ['Mark_Ruffalo', 'Shutter_Island_(film)', 'Shu...   \n",
       "4  ['A_Song_of_Ice_and_Fire', 'The_Winds_of_Winter']   \n",
       "\n",
       "                                             mention result entity  \\\n",
       "0                                       ['Tim Roth']           NaN   \n",
       "1                                ['AVM Productions']           NaN   \n",
       "2                                       ['Due Date']           NaN   \n",
       "3  ['Shutter Island', '2003 novel of the same name']           NaN   \n",
       "4                            ['The Winds of Winter']           NaN   \n",
       "\n",
       "   discard number  \n",
       "0             NaN  \n",
       "1             NaN  \n",
       "2             NaN  \n",
       "3             NaN  \n",
       "4             NaN  "
      ],
      "text/html": [
       "<div>\n",
       "<style scoped>\n",
       "    .dataframe tbody tr th:only-of-type {\n",
       "        vertical-align: middle;\n",
       "    }\n",
       "\n",
       "    .dataframe tbody tr th {\n",
       "        vertical-align: top;\n",
       "    }\n",
       "\n",
       "    .dataframe thead th {\n",
       "        text-align: right;\n",
       "    }\n",
       "</style>\n",
       "<table border=\"1\" class=\"dataframe\">\n",
       "  <thead>\n",
       "    <tr style=\"text-align: right;\">\n",
       "      <th></th>\n",
       "      <th>claim</th>\n",
       "      <th>explanation</th>\n",
       "      <th>label</th>\n",
       "      <th>golden entity</th>\n",
       "      <th>mention</th>\n",
       "      <th>result entity</th>\n",
       "      <th>discard number</th>\n",
       "    </tr>\n",
       "  </thead>\n",
       "  <tbody>\n",
       "    <tr>\n",
       "      <th>0</th>\n",
       "      <td>The Hit is the first film Stephen Frears direc...</td>\n",
       "      <td>No information shows that The Hit is the first...</td>\n",
       "      <td>NOT ENOUGH INFO</td>\n",
       "      <td>['The_Hit_(1984_film)', 'Tim_Roth']</td>\n",
       "      <td>['Tim Roth']</td>\n",
       "      <td>NaN</td>\n",
       "      <td>NaN</td>\n",
       "    </tr>\n",
       "    <tr>\n",
       "      <th>1</th>\n",
       "      <td>Gemini is an Indian Tamil-language crime actio...</td>\n",
       "      <td>Gemini is an Indian Tamil-language crime actio...</td>\n",
       "      <td>SUPPORT</td>\n",
       "      <td>['Gemini_(2002_Tamil_film)', 'AVM_Productions']</td>\n",
       "      <td>['AVM Productions']</td>\n",
       "      <td>NaN</td>\n",
       "      <td>NaN</td>\n",
       "    </tr>\n",
       "    <tr>\n",
       "      <th>2</th>\n",
       "      <td>Zach Galifianakis is an American actor who app...</td>\n",
       "      <td>Zach Galifianakis is an American actor who app...</td>\n",
       "      <td>REFUTE</td>\n",
       "      <td>['Zach_Galifianakis', 'Due_Date']</td>\n",
       "      <td>['Due Date']</td>\n",
       "      <td>NaN</td>\n",
       "      <td>NaN</td>\n",
       "    </tr>\n",
       "    <tr>\n",
       "      <th>3</th>\n",
       "      <td>Mark Alan Ruffalo went on to star in a 2002 Am...</td>\n",
       "      <td>Mark Alan Ruffalo went on to star in Shutter I...</td>\n",
       "      <td>REFUTE</td>\n",
       "      <td>['Mark_Ruffalo', 'Shutter_Island_(film)', 'Shu...</td>\n",
       "      <td>['Shutter Island', '2003 novel of the same name']</td>\n",
       "      <td>NaN</td>\n",
       "      <td>NaN</td>\n",
       "    </tr>\n",
       "    <tr>\n",
       "      <th>4</th>\n",
       "      <td>Martin is currently writing the sixth novel in...</td>\n",
       "      <td>Martin is currently writing the sixth novel, T...</td>\n",
       "      <td>SUPPORT</td>\n",
       "      <td>['A_Song_of_Ice_and_Fire', 'The_Winds_of_Winter']</td>\n",
       "      <td>['The Winds of Winter']</td>\n",
       "      <td>NaN</td>\n",
       "      <td>NaN</td>\n",
       "    </tr>\n",
       "  </tbody>\n",
       "</table>\n",
       "</div>"
      ]
     },
     "execution_count": 3,
     "metadata": {},
     "output_type": "execute_result"
    }
   ],
   "execution_count": 3
  },
  {
   "metadata": {
    "ExecuteTime": {
     "end_time": "2024-12-19T17:15:38.370116Z",
     "start_time": "2024-12-19T17:15:38.358028Z"
    }
   },
   "cell_type": "code",
   "source": "df_check = df[df['result entity'].notna()]",
   "id": "3f42a040dabe69ac",
   "outputs": [],
   "execution_count": 4
  },
  {
   "metadata": {
    "ExecuteTime": {
     "end_time": "2024-12-19T17:15:40.074676Z",
     "start_time": "2024-12-19T17:15:40.056622Z"
    }
   },
   "cell_type": "code",
   "source": "df_check.head()",
   "id": "5b3989ae6d74bfaf",
   "outputs": [
    {
     "data": {
      "text/plain": [
       "                                                claim  \\\n",
       "5   Glenn Lewis Frey sang the lead vocals on the t...   \n",
       "6   Glenn Lewis Frey sang the lead vocals on the t...   \n",
       "7   Alison Brie is an American actress who has won...   \n",
       "8   Alison Brie is an American actress who has won...   \n",
       "25  L.A. Law is an American legal drama television...   \n",
       "\n",
       "                                          explanation            label  \\\n",
       "5   Peaceful Easy Feeling was the third single by ...  NOT ENOUGH INFO   \n",
       "6   Glenn Lewis Frey sang the lead vocals on the s...          SUPPORT   \n",
       "7   Alison Brie is an American actress who has won...  NOT ENOUGH INFO   \n",
       "8   Alison Brie is an American actress who has won...          SUPPORT   \n",
       "25  Homophobia encompasses a range of negative att...  NOT ENOUGH INFO   \n",
       "\n",
       "                                        golden entity  \\\n",
       "5   ['Glenn_Frey', 'Peaceful_Easy_Feeling', 'Berni...   \n",
       "6   ['Glenn_Frey', 'Peaceful_Easy_Feeling', 'Berni...   \n",
       "7   ['Alison_Brie', 'Screen_Actors_Guild', 'Trade_...   \n",
       "8   ['Alison_Brie', 'Screen_Actors_Guild', 'Trade_...   \n",
       "25             ['L.A._Law', 'Homophobia', 'Bisexual']   \n",
       "\n",
       "                                         mention  \\\n",
       "5     ['Peaceful Easy Feeling', 'Bernie Leadon']   \n",
       "6     ['Peaceful Easy Feeling', 'Bernie Leadon']   \n",
       "7   ['Screen Actors Guild Award', 'labor union']   \n",
       "8   ['Screen Actors Guild Award', 'labor union']   \n",
       "25                    ['homophobia', 'bisexual']   \n",
       "\n",
       "                                 result entity  discard number  \n",
       "5   ['Peaceful_Easy_Feeling', 'Bernie_Leadon']             1.0  \n",
       "6   ['Peaceful_Easy_Feeling', 'Bernie_Leadon']             1.0  \n",
       "7               ['Alison_Brie', 'Trade_union']             2.0  \n",
       "8               ['Alison_Brie', 'Trade_union']             2.0  \n",
       "25                  ['Homophobia', 'Bisexual']             1.0  "
      ],
      "text/html": [
       "<div>\n",
       "<style scoped>\n",
       "    .dataframe tbody tr th:only-of-type {\n",
       "        vertical-align: middle;\n",
       "    }\n",
       "\n",
       "    .dataframe tbody tr th {\n",
       "        vertical-align: top;\n",
       "    }\n",
       "\n",
       "    .dataframe thead th {\n",
       "        text-align: right;\n",
       "    }\n",
       "</style>\n",
       "<table border=\"1\" class=\"dataframe\">\n",
       "  <thead>\n",
       "    <tr style=\"text-align: right;\">\n",
       "      <th></th>\n",
       "      <th>claim</th>\n",
       "      <th>explanation</th>\n",
       "      <th>label</th>\n",
       "      <th>golden entity</th>\n",
       "      <th>mention</th>\n",
       "      <th>result entity</th>\n",
       "      <th>discard number</th>\n",
       "    </tr>\n",
       "  </thead>\n",
       "  <tbody>\n",
       "    <tr>\n",
       "      <th>5</th>\n",
       "      <td>Glenn Lewis Frey sang the lead vocals on the t...</td>\n",
       "      <td>Peaceful Easy Feeling was the third single by ...</td>\n",
       "      <td>NOT ENOUGH INFO</td>\n",
       "      <td>['Glenn_Frey', 'Peaceful_Easy_Feeling', 'Berni...</td>\n",
       "      <td>['Peaceful Easy Feeling', 'Bernie Leadon']</td>\n",
       "      <td>['Peaceful_Easy_Feeling', 'Bernie_Leadon']</td>\n",
       "      <td>1.0</td>\n",
       "    </tr>\n",
       "    <tr>\n",
       "      <th>6</th>\n",
       "      <td>Glenn Lewis Frey sang the lead vocals on the t...</td>\n",
       "      <td>Glenn Lewis Frey sang the lead vocals on the s...</td>\n",
       "      <td>SUPPORT</td>\n",
       "      <td>['Glenn_Frey', 'Peaceful_Easy_Feeling', 'Berni...</td>\n",
       "      <td>['Peaceful Easy Feeling', 'Bernie Leadon']</td>\n",
       "      <td>['Peaceful_Easy_Feeling', 'Bernie_Leadon']</td>\n",
       "      <td>1.0</td>\n",
       "    </tr>\n",
       "    <tr>\n",
       "      <th>7</th>\n",
       "      <td>Alison Brie is an American actress who has won...</td>\n",
       "      <td>Alison Brie is an American actress who has won...</td>\n",
       "      <td>NOT ENOUGH INFO</td>\n",
       "      <td>['Alison_Brie', 'Screen_Actors_Guild', 'Trade_...</td>\n",
       "      <td>['Screen Actors Guild Award', 'labor union']</td>\n",
       "      <td>['Alison_Brie', 'Trade_union']</td>\n",
       "      <td>2.0</td>\n",
       "    </tr>\n",
       "    <tr>\n",
       "      <th>8</th>\n",
       "      <td>Alison Brie is an American actress who has won...</td>\n",
       "      <td>Alison Brie is an American actress who has won...</td>\n",
       "      <td>SUPPORT</td>\n",
       "      <td>['Alison_Brie', 'Screen_Actors_Guild', 'Trade_...</td>\n",
       "      <td>['Screen Actors Guild Award', 'labor union']</td>\n",
       "      <td>['Alison_Brie', 'Trade_union']</td>\n",
       "      <td>2.0</td>\n",
       "    </tr>\n",
       "    <tr>\n",
       "      <th>25</th>\n",
       "      <td>L.A. Law is an American legal drama television...</td>\n",
       "      <td>Homophobia encompasses a range of negative att...</td>\n",
       "      <td>NOT ENOUGH INFO</td>\n",
       "      <td>['L.A._Law', 'Homophobia', 'Bisexual']</td>\n",
       "      <td>['homophobia', 'bisexual']</td>\n",
       "      <td>['Homophobia', 'Bisexual']</td>\n",
       "      <td>1.0</td>\n",
       "    </tr>\n",
       "  </tbody>\n",
       "</table>\n",
       "</div>"
      ]
     },
     "execution_count": 5,
     "metadata": {},
     "output_type": "execute_result"
    }
   ],
   "execution_count": 5
  },
  {
   "metadata": {
    "ExecuteTime": {
     "end_time": "2024-12-19T17:15:43.875364Z",
     "start_time": "2024-12-19T17:15:43.384752Z"
    }
   },
   "cell_type": "code",
   "source": [
    "\n",
    "\n",
    "nlp = spacy.load(\"en_core_web_sm\")\n",
    "claim = \"Bohemian Rhapsody is a song by the British rock band Queen for their 1975 album that was released on 21 November 1975.\"\n",
    "doc = nlp(claim)\n",
    "\n",
    "# Extract Named Entities\n",
    "entities = [(ent.text, ent.label_) for ent in doc.ents]\n",
    "print(\"Named Entities:\", entities)\n",
    "\n",
    "entities_text =[(ent.text) for ent in doc.ents]\n"
   ],
   "id": "319afccc18c6cd8d",
   "outputs": [
    {
     "name": "stdout",
     "output_type": "stream",
     "text": [
      "Named Entities: [('Bohemian Rhapsody', 'NORP'), ('British', 'NORP'), ('Queen', 'PERSON'), ('1975', 'DATE'), ('21 November 1975', 'DATE')]\n"
     ]
    }
   ],
   "execution_count": 6
  },
  {
   "metadata": {
    "ExecuteTime": {
     "end_time": "2024-12-19T17:15:51.795762Z",
     "start_time": "2024-12-19T17:15:47.349392Z"
    }
   },
   "cell_type": "code",
   "source": [
    "\n",
    "temp_entities = entities_text\n",
    "\n",
    "page_list = []\n",
    "\n",
    "while len(temp_entities) != 0 :\n",
    "\n",
    "    try:\n",
    "        print(f\"Searching for: {' '.join(temp_entities)}\")\n",
    "        page = wikipedia.page(' '.join(temp_entities))\n",
    "        print(f\"Title: {page.title}\")\n",
    "        page_list.append(page.content)\n",
    "\n",
    "    except Exception as e:\n",
    "        print(f\"Error finding page for {temp_entities[-1]}: {e}\")\n",
    "\n",
    "\n",
    "    temp_entities = temp_entities[:-1]\n",
    "\n",
    "\n",
    "\n",
    "\n",
    "## to do: the right combination of entities\n"
   ],
   "id": "357561602f6e6fc3",
   "outputs": [
    {
     "name": "stdout",
     "output_type": "stream",
     "text": [
      "Searching for: Bohemian Rhapsody British Queen 1975 21 November 1975\n",
      "Title: Bohemian Rhapsody\n",
      "Searching for: Bohemian Rhapsody British Queen 1975\n",
      "Title: Bohemian Rhapsody\n",
      "Searching for: Bohemian Rhapsody British Queen\n",
      "Title: Bohemian Rhapsody\n",
      "Searching for: Bohemian Rhapsody British\n",
      "Title: Bohemian Rhapsody\n",
      "Searching for: Bohemian Rhapsody\n",
      "Title: Bohemian Rhapsody\n"
     ]
    }
   ],
   "execution_count": 7
  },
  {
   "metadata": {},
   "cell_type": "code",
   "source": "",
   "id": "4a61ab83dc6a94a2",
   "outputs": [],
   "execution_count": null
  },
  {
   "metadata": {
    "ExecuteTime": {
     "end_time": "2024-12-19T17:16:07.801142Z",
     "start_time": "2024-12-19T17:16:02.887894Z"
    }
   },
   "cell_type": "code",
   "source": [
    "from transformers import pipeline\n",
    "pipe = pipeline(\"text-classification\", model=\"Dzeniks/roberta-fact-check\")\n",
    "\n",
    "\n",
    "pipe(\"test\")\n"
   ],
   "id": "be15c531e3686e61",
   "outputs": [
    {
     "name": "stderr",
     "output_type": "stream",
     "text": [
      "/Users/hiddemakimei/Desktop/git/vu/web/kb/wdps_group27/.venv/lib/python3.9/site-packages/tqdm/auto.py:21: TqdmWarning: IProgress not found. Please update jupyter and ipywidgets. See https://ipywidgets.readthedocs.io/en/stable/user_install.html\n",
      "  from .autonotebook import tqdm as notebook_tqdm\n",
      "/Users/hiddemakimei/Desktop/git/vu/web/kb/wdps_group27/.venv/lib/python3.9/site-packages/urllib3/__init__.py:35: NotOpenSSLWarning: urllib3 v2 only supports OpenSSL 1.1.1+, currently the 'ssl' module is compiled with 'LibreSSL 2.8.3'. See: https://github.com/urllib3/urllib3/issues/3020\n",
      "  warnings.warn(\n",
      "Device set to use cpu\n"
     ]
    },
    {
     "data": {
      "text/plain": [
       "[{'label': 'LABEL_0', 'score': 0.6727511286735535}]"
      ]
     },
     "execution_count": 8,
     "metadata": {},
     "output_type": "execute_result"
    }
   ],
   "execution_count": 8
  },
  {
   "metadata": {
    "ExecuteTime": {
     "end_time": "2024-12-19T17:16:13.823450Z",
     "start_time": "2024-12-19T17:16:12.771146Z"
    }
   },
   "cell_type": "code",
   "source": [
    "import torch\n",
    "from transformers import RobertaTokenizer, RobertaForSequenceClassification\n",
    "\n",
    "tokenizer = RobertaTokenizer.from_pretrained('Dzeniks/roberta-fact-check')\n",
    "model = RobertaForSequenceClassification.from_pretrained('Dzeniks/roberta-fact-check')\n",
    "\n",
    "# Define the claim with evidence to classify\n",
    "evidence = \"\"\"\n",
    "Justine Tanya Bateman (born February 19, 1966) is an American writer, producer, and actress . She is best known for her regular role as Mallory Keaton on the sitcom Family Ties (1982 -- 1989). Until recently, Bateman ran a production and consulting company, SECTION 5 . In the fall of 2012, she started studying computer science at UCLA.\n",
    "\"\"\"\n",
    "\n",
    "claim = 'Justine Bateman is a swimmer.'\n",
    "\n",
    "# Tokenize the claim with evidence\n",
    "x = tokenizer.encode_plus(claim, evidence, return_tensors=\"pt\")\n",
    "\n",
    "model.eval()\n",
    "with torch.no_grad():\n",
    "  prediction = model(**x)\n",
    "\n",
    "print(prediction)\n",
    "\n",
    "print(torch.argmax(prediction[0]).item())\n"
   ],
   "id": "c748d68d778f0858",
   "outputs": [
    {
     "name": "stderr",
     "output_type": "stream",
     "text": [
      "huggingface/tokenizers: The current process just got forked, after parallelism has already been used. Disabling parallelism to avoid deadlocks...\n",
      "To disable this warning, you can either:\n",
      "\t- Avoid using `tokenizers` before the fork if possible\n",
      "\t- Explicitly set the environment variable TOKENIZERS_PARALLELISM=(true | false)\n"
     ]
    },
    {
     "name": "stdout",
     "output_type": "stream",
     "text": [
      "SequenceClassifierOutput(loss=None, logits=tensor([[-0.9279,  1.4750]]), hidden_states=None, attentions=None)\n",
      "1\n"
     ]
    },
    {
     "name": "stderr",
     "output_type": "stream",
     "text": [
      "/Users/hiddemakimei/Desktop/git/vu/web/kb/wdps_group27/.venv/lib/python3.9/site-packages/urllib3/__init__.py:35: NotOpenSSLWarning: urllib3 v2 only supports OpenSSL 1.1.1+, currently the 'ssl' module is compiled with 'LibreSSL 2.8.3'. See: https://github.com/urllib3/urllib3/issues/3020\n",
      "  warnings.warn(\n"
     ]
    }
   ],
   "execution_count": 9
  },
  {
   "metadata": {},
   "cell_type": "code",
   "source": "!!pip install sentencepiece\n",
   "id": "47b8db5ba4bf01fd",
   "outputs": [],
   "execution_count": null
  },
  {
   "metadata": {
    "ExecuteTime": {
     "end_time": "2024-12-19T17:16:24.782236Z",
     "start_time": "2024-12-19T17:16:24.669470Z"
    }
   },
   "cell_type": "code",
   "source": [
    "from sklearn.feature_extraction.text import TfidfVectorizer\n",
    "\n",
    "documents = page_list  # Content of linked Wikipedia pages\n",
    "tfidf = TfidfVectorizer().fit_transform(documents)\n",
    "similarity_matrix = (tfidf * tfidf.T).toarray()\n",
    "print(similarity_matrix)"
   ],
   "id": "7f76292b2ddc5d56",
   "outputs": [
    {
     "name": "stdout",
     "output_type": "stream",
     "text": [
      "[[1. 1. 1. 1. 1.]\n",
      " [1. 1. 1. 1. 1.]\n",
      " [1. 1. 1. 1. 1.]\n",
      " [1. 1. 1. 1. 1.]\n",
      " [1. 1. 1. 1. 1.]]\n"
     ]
    }
   ],
   "execution_count": 10
  },
  {
   "metadata": {
    "ExecuteTime": {
     "end_time": "2024-12-19T17:41:01.833580Z",
     "start_time": "2024-12-19T17:34:47.008502Z"
    }
   },
   "cell_type": "code",
   "source": [
    "from transformers import T5ForConditionalGeneration, T5Tokenizer\n",
    "\n",
    "\n",
    "\n",
    "claim = \"Bohemian Rhapsody is a song by the British rock band Queen for their 1975 album that was released on 21 November 1975.\"\n",
    "\n",
    "# def generate_golden_explanation_with_t5(claim, evidence):\n",
    "tokenizer = T5Tokenizer.from_pretrained('t5-small')\n",
    "model = T5ForConditionalGeneration.from_pretrained('t5-small')\n",
    "\n",
    "input_text = f\"claim: {claim} evidence: {page_list[0]:200}\"\n",
    "input_ids = tokenizer.encode(input_text, return_tensors=\"pt\")\n",
    "\n",
    "output_ids = model.generate(input_ids, max_length=200)\n",
    "explanation = tokenizer.decode(output_ids[0], skip_special_tokens=True)\n",
    "explanation"
   ],
   "id": "363af1a1d2bc57ef",
   "outputs": [
    {
     "name": "stderr",
     "output_type": "stream",
     "text": [
      "Token indices sequence length is longer than the specified maximum sequence length for this model (12625 > 512). Running this sequence through the model will result in indexing errors\n"
     ]
    },
    {
     "data": {
      "text/plain": [
       "'the song was a\\'stupid\\' and a\\'stupid\\' song. the band\\'s first single was \"Bohemian Rhapsody\" in 1975. the band\\'s first single was \"Bohemian Rhapsody\" in the 1980s. the band\\'s first single was \"Bohemian Rhapsody\" in the 1980s.'"
      ]
     },
     "execution_count": 13,
     "metadata": {},
     "output_type": "execute_result"
    }
   ],
   "execution_count": 13
  },
  {
   "metadata": {},
   "cell_type": "code",
   "outputs": [],
   "execution_count": null,
   "source": "",
   "id": "ca75986a6c5daae"
  }
 ],
 "metadata": {
  "kernelspec": {
   "display_name": "Python 3",
   "language": "python",
   "name": "python3"
  },
  "language_info": {
   "codemirror_mode": {
    "name": "ipython",
    "version": 2
   },
   "file_extension": ".py",
   "mimetype": "text/x-python",
   "name": "python",
   "nbconvert_exporter": "python",
   "pygments_lexer": "ipython2",
   "version": "2.7.6"
  }
 },
 "nbformat": 4,
 "nbformat_minor": 5
}
